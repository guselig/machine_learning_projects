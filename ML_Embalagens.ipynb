{
  "cells": [
    {
      "cell_type": "code",
      "execution_count": null,
      "metadata": {
        "id": "kJUDdd1P4nqw"
      },
      "outputs": [],
      "source": [
        "import pandas as pd"
      ]
    },
    {
      "cell_type": "code",
      "execution_count": null,
      "metadata": {
        "colab": {
          "base_uri": "https://localhost:8080/",
          "height": 338
        },
        "collapsed": true,
        "id": "_Ov7mgB_4vbK",
        "outputId": "ae1be91b-dc27-4b90-d6c7-a7fd009fa8c4"
      },
      "outputs": [],
      "source": [
        "dados = pd.read_excel('/content/Dados ML Embalagens.xlsx')\n",
        "dados.head()"
      ]
    },
    {
      "cell_type": "code",
      "execution_count": null,
      "metadata": {
        "id": "5VBhKgqcju-v"
      },
      "outputs": [],
      "source": [
        "dados['Litragem'] = dados['Item Code'].apply(lambda x: x[-4:])\n",
        "dados.head()"
      ]
    },
    {
      "cell_type": "code",
      "execution_count": null,
      "metadata": {
        "id": "ejwaSgg6ju4J"
      },
      "outputs": [],
      "source": [
        "dados['Prefixo Litragem'] = dados['Item Code'].apply(lambda x: x[-6:-4])\n",
        "dados.head()"
      ]
    },
    {
      "cell_type": "code",
      "execution_count": null,
      "metadata": {
        "id": "S4yrhfxmk1fn"
      },
      "outputs": [],
      "source": [
        "dados['Item Code'] = dados['Item Code'].apply(lambda x: x[:6])\n",
        "\n",
        "dados.head()"
      ]
    },
    {
      "cell_type": "code",
      "execution_count": null,
      "metadata": {
        "id": "eGYkU8jL42g4"
      },
      "outputs": [],
      "source": [
        "x = dados[['Item Code','Litragem','Prefixo Litragem']]\n",
        "y = dados[['IBC Comum Retornável','IBC One Way Antiestático','IBC One Way 6 Camadas','IBC One Way Comum','IBC Antiestático Retornável','IBC 6 Camadas Retornável','IBC Bolha Branca Retornável']]\n"
      ]
    },
    {
      "cell_type": "code",
      "execution_count": null,
      "metadata": {
        "id": "zxSL3gXNmO8d"
      },
      "outputs": [],
      "source": [
        "x"
      ]
    },
    {
      "cell_type": "code",
      "execution_count": null,
      "metadata": {
        "id": "qxvfq6hMmOqf"
      },
      "outputs": [],
      "source": [
        "y"
      ]
    },
    {
      "cell_type": "code",
      "execution_count": null,
      "metadata": {
        "id": "J3zng0mayYko"
      },
      "outputs": [],
      "source": [
        "from sklearn.model_selection import train_test_split\n",
        "\n",
        "\n",
        "\n",
        "treino_x, teste_x, treino_y, teste_y = train_test_split(x, y, test_size = 0.25)"
      ]
    },
    {
      "cell_type": "code",
      "execution_count": null,
      "metadata": {
        "id": "XYU9xvcytDGw"
      },
      "outputs": [],
      "source": [
        "from sklearn.model_selection import cross_val_predict, KFold\n",
        "from sklearn.multioutput import MultiOutputClassifier\n",
        "from sklearn.ensemble import RandomForestClassifier\n",
        "from sklearn.metrics import accuracy_score\n",
        "\n",
        "\n",
        "SEED = 20\n",
        "\n",
        "kf = KFold(n_splits=5, shuffle=True, random_state=SEED)\n",
        "\n",
        "rf_classifier = RandomForestClassifier(max_depth=10)\n",
        "\n",
        "classifier = MultiOutputClassifier(rf_classifier)\n",
        "\n",
        "y_pred = cross_val_predict(classifier, x, y, cv=kf)\n",
        "\n",
        "accuracy = accuracy_score(y, y_pred)\n",
        "\n",
        "accuracy\n",
        "\n"
      ]
    },
    {
      "cell_type": "code",
      "execution_count": null,
      "metadata": {
        "id": "rfDJfXrgsRv7"
      },
      "outputs": [],
      "source": [
        "novos_dados_x = pd.read_excel('/content/testeeeeee.xlsx')\n",
        "novos_dados_x.head()"
      ]
    },
    {
      "cell_type": "code",
      "execution_count": null,
      "metadata": {
        "id": "dCWIE5JNud51"
      },
      "outputs": [],
      "source": [
        "novos_dados_x.columns = ['Item Code', 'Litragem', 'Prefixo Litragem']\n",
        "\n",
        "novos_dados_x"
      ]
    },
    {
      "cell_type": "code",
      "execution_count": null,
      "metadata": {
        "id": "wFX01qWft7oi"
      },
      "outputs": [],
      "source": [
        "from sklearn.model_selection import train_test_split\n",
        "\n",
        "\n",
        "\n",
        "treino_x, teste_x, treino_y, teste_y = train_test_split(x, y, test_size = 0.25)\n"
      ]
    },
    {
      "cell_type": "code",
      "execution_count": null,
      "metadata": {
        "id": "vWgNa4YnrJS4"
      },
      "outputs": [],
      "source": [
        "from sklearn.multioutput import MultiOutputClassifier\n",
        "from sklearn.ensemble import RandomForestClassifier\n",
        "from sklearn.metrics import accuracy_score\n",
        "\n",
        "SEED = 20\n",
        "\n",
        "rf_classifier = RandomForestClassifier(max_depth=10, random_state=SEED)\n",
        "\n",
        "classifier = MultiOutputClassifier(rf_classifier)\n",
        "\n",
        "classifier.fit(treino_x, treino_y)\n",
        "\n",
        "y_pred = classifier.predict(teste_x)\n",
        "\n",
        "accuracy = accuracy_score(teste_y, y_pred)\n",
        "\n",
        "accuracy\n"
      ]
    },
    {
      "cell_type": "code",
      "execution_count": null,
      "metadata": {
        "id": "1nPkeNh1uHzP"
      },
      "outputs": [],
      "source": [
        "previsoes = classifier.predict(novos_dados_x)\n",
        "\n",
        "\n",
        "previsoes"
      ]
    },
    {
      "cell_type": "code",
      "execution_count": null,
      "metadata": {
        "id": "IZnzNqX8v1Sn"
      },
      "outputs": [],
      "source": []
    }
  ],
  "metadata": {
    "colab": {
      "provenance": []
    },
    "kernelspec": {
      "display_name": "Python 3",
      "name": "python3"
    },
    "language_info": {
      "name": "python"
    }
  },
  "nbformat": 4,
  "nbformat_minor": 0
}
