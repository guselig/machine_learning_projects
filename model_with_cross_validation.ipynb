{
  "nbformat": 4,
  "nbformat_minor": 0,
  "metadata": {
    "colab": {
      "provenance": []
    },
    "kernelspec": {
      "name": "python3",
      "display_name": "Python 3"
    },
    "language_info": {
      "name": "python"
    }
  },
  "cells": [
    {
      "cell_type": "code",
      "execution_count": null,
      "metadata": {
        "colab": {
          "base_uri": "https://localhost:8080/",
          "height": 206
        },
        "id": "q2Yf9d5aMNYm",
        "outputId": "8211c8a5-08b7-4c23-a48c-fbb857952ddf"
      },
      "outputs": [
        {
          "output_type": "execute_result",
          "data": {
            "text/plain": [
              "       preco  vendido  idade_do_modelo   km_por_ano\n",
              "0   30941.02        1               18  35085.22134\n",
              "1   40557.96        1               20  12622.05362\n",
              "2   89627.50        0               12  11440.79806\n",
              "3   95276.14        0                3  43167.32682\n",
              "4  117384.68        1                4  12770.11290"
            ],
            "text/html": [
              "\n",
              "  <div id=\"df-9ab0ca4f-46c4-4eb4-97e8-a75c16101ef2\" class=\"colab-df-container\">\n",
              "    <div>\n",
              "<style scoped>\n",
              "    .dataframe tbody tr th:only-of-type {\n",
              "        vertical-align: middle;\n",
              "    }\n",
              "\n",
              "    .dataframe tbody tr th {\n",
              "        vertical-align: top;\n",
              "    }\n",
              "\n",
              "    .dataframe thead th {\n",
              "        text-align: right;\n",
              "    }\n",
              "</style>\n",
              "<table border=\"1\" class=\"dataframe\">\n",
              "  <thead>\n",
              "    <tr style=\"text-align: right;\">\n",
              "      <th></th>\n",
              "      <th>preco</th>\n",
              "      <th>vendido</th>\n",
              "      <th>idade_do_modelo</th>\n",
              "      <th>km_por_ano</th>\n",
              "    </tr>\n",
              "  </thead>\n",
              "  <tbody>\n",
              "    <tr>\n",
              "      <th>0</th>\n",
              "      <td>30941.02</td>\n",
              "      <td>1</td>\n",
              "      <td>18</td>\n",
              "      <td>35085.22134</td>\n",
              "    </tr>\n",
              "    <tr>\n",
              "      <th>1</th>\n",
              "      <td>40557.96</td>\n",
              "      <td>1</td>\n",
              "      <td>20</td>\n",
              "      <td>12622.05362</td>\n",
              "    </tr>\n",
              "    <tr>\n",
              "      <th>2</th>\n",
              "      <td>89627.50</td>\n",
              "      <td>0</td>\n",
              "      <td>12</td>\n",
              "      <td>11440.79806</td>\n",
              "    </tr>\n",
              "    <tr>\n",
              "      <th>3</th>\n",
              "      <td>95276.14</td>\n",
              "      <td>0</td>\n",
              "      <td>3</td>\n",
              "      <td>43167.32682</td>\n",
              "    </tr>\n",
              "    <tr>\n",
              "      <th>4</th>\n",
              "      <td>117384.68</td>\n",
              "      <td>1</td>\n",
              "      <td>4</td>\n",
              "      <td>12770.11290</td>\n",
              "    </tr>\n",
              "  </tbody>\n",
              "</table>\n",
              "</div>\n",
              "    <div class=\"colab-df-buttons\">\n",
              "\n",
              "  <div class=\"colab-df-container\">\n",
              "    <button class=\"colab-df-convert\" onclick=\"convertToInteractive('df-9ab0ca4f-46c4-4eb4-97e8-a75c16101ef2')\"\n",
              "            title=\"Convert this dataframe to an interactive table.\"\n",
              "            style=\"display:none;\">\n",
              "\n",
              "  <svg xmlns=\"http://www.w3.org/2000/svg\" height=\"24px\" viewBox=\"0 -960 960 960\">\n",
              "    <path d=\"M120-120v-720h720v720H120Zm60-500h600v-160H180v160Zm220 220h160v-160H400v160Zm0 220h160v-160H400v160ZM180-400h160v-160H180v160Zm440 0h160v-160H620v160ZM180-180h160v-160H180v160Zm440 0h160v-160H620v160Z\"/>\n",
              "  </svg>\n",
              "    </button>\n",
              "\n",
              "  <style>\n",
              "    .colab-df-container {\n",
              "      display:flex;\n",
              "      gap: 12px;\n",
              "    }\n",
              "\n",
              "    .colab-df-convert {\n",
              "      background-color: #E8F0FE;\n",
              "      border: none;\n",
              "      border-radius: 50%;\n",
              "      cursor: pointer;\n",
              "      display: none;\n",
              "      fill: #1967D2;\n",
              "      height: 32px;\n",
              "      padding: 0 0 0 0;\n",
              "      width: 32px;\n",
              "    }\n",
              "\n",
              "    .colab-df-convert:hover {\n",
              "      background-color: #E2EBFA;\n",
              "      box-shadow: 0px 1px 2px rgba(60, 64, 67, 0.3), 0px 1px 3px 1px rgba(60, 64, 67, 0.15);\n",
              "      fill: #174EA6;\n",
              "    }\n",
              "\n",
              "    .colab-df-buttons div {\n",
              "      margin-bottom: 4px;\n",
              "    }\n",
              "\n",
              "    [theme=dark] .colab-df-convert {\n",
              "      background-color: #3B4455;\n",
              "      fill: #D2E3FC;\n",
              "    }\n",
              "\n",
              "    [theme=dark] .colab-df-convert:hover {\n",
              "      background-color: #434B5C;\n",
              "      box-shadow: 0px 1px 3px 1px rgba(0, 0, 0, 0.15);\n",
              "      filter: drop-shadow(0px 1px 2px rgba(0, 0, 0, 0.3));\n",
              "      fill: #FFFFFF;\n",
              "    }\n",
              "  </style>\n",
              "\n",
              "    <script>\n",
              "      const buttonEl =\n",
              "        document.querySelector('#df-9ab0ca4f-46c4-4eb4-97e8-a75c16101ef2 button.colab-df-convert');\n",
              "      buttonEl.style.display =\n",
              "        google.colab.kernel.accessAllowed ? 'block' : 'none';\n",
              "\n",
              "      async function convertToInteractive(key) {\n",
              "        const element = document.querySelector('#df-9ab0ca4f-46c4-4eb4-97e8-a75c16101ef2');\n",
              "        const dataTable =\n",
              "          await google.colab.kernel.invokeFunction('convertToInteractive',\n",
              "                                                    [key], {});\n",
              "        if (!dataTable) return;\n",
              "\n",
              "        const docLinkHtml = 'Like what you see? Visit the ' +\n",
              "          '<a target=\"_blank\" href=https://colab.research.google.com/notebooks/data_table.ipynb>data table notebook</a>'\n",
              "          + ' to learn more about interactive tables.';\n",
              "        element.innerHTML = '';\n",
              "        dataTable['output_type'] = 'display_data';\n",
              "        await google.colab.output.renderOutput(dataTable, element);\n",
              "        const docLink = document.createElement('div');\n",
              "        docLink.innerHTML = docLinkHtml;\n",
              "        element.appendChild(docLink);\n",
              "      }\n",
              "    </script>\n",
              "  </div>\n",
              "\n",
              "\n",
              "<div id=\"df-e3a9524c-1ada-4f03-a8e4-122a3d752a42\">\n",
              "  <button class=\"colab-df-quickchart\" onclick=\"quickchart('df-e3a9524c-1ada-4f03-a8e4-122a3d752a42')\"\n",
              "            title=\"Suggest charts.\"\n",
              "            style=\"display:none;\">\n",
              "\n",
              "<svg xmlns=\"http://www.w3.org/2000/svg\" height=\"24px\"viewBox=\"0 0 24 24\"\n",
              "     width=\"24px\">\n",
              "    <g>\n",
              "        <path d=\"M19 3H5c-1.1 0-2 .9-2 2v14c0 1.1.9 2 2 2h14c1.1 0 2-.9 2-2V5c0-1.1-.9-2-2-2zM9 17H7v-7h2v7zm4 0h-2V7h2v10zm4 0h-2v-4h2v4z\"/>\n",
              "    </g>\n",
              "</svg>\n",
              "  </button>\n",
              "\n",
              "<style>\n",
              "  .colab-df-quickchart {\n",
              "      --bg-color: #E8F0FE;\n",
              "      --fill-color: #1967D2;\n",
              "      --hover-bg-color: #E2EBFA;\n",
              "      --hover-fill-color: #174EA6;\n",
              "      --disabled-fill-color: #AAA;\n",
              "      --disabled-bg-color: #DDD;\n",
              "  }\n",
              "\n",
              "  [theme=dark] .colab-df-quickchart {\n",
              "      --bg-color: #3B4455;\n",
              "      --fill-color: #D2E3FC;\n",
              "      --hover-bg-color: #434B5C;\n",
              "      --hover-fill-color: #FFFFFF;\n",
              "      --disabled-bg-color: #3B4455;\n",
              "      --disabled-fill-color: #666;\n",
              "  }\n",
              "\n",
              "  .colab-df-quickchart {\n",
              "    background-color: var(--bg-color);\n",
              "    border: none;\n",
              "    border-radius: 50%;\n",
              "    cursor: pointer;\n",
              "    display: none;\n",
              "    fill: var(--fill-color);\n",
              "    height: 32px;\n",
              "    padding: 0;\n",
              "    width: 32px;\n",
              "  }\n",
              "\n",
              "  .colab-df-quickchart:hover {\n",
              "    background-color: var(--hover-bg-color);\n",
              "    box-shadow: 0 1px 2px rgba(60, 64, 67, 0.3), 0 1px 3px 1px rgba(60, 64, 67, 0.15);\n",
              "    fill: var(--button-hover-fill-color);\n",
              "  }\n",
              "\n",
              "  .colab-df-quickchart-complete:disabled,\n",
              "  .colab-df-quickchart-complete:disabled:hover {\n",
              "    background-color: var(--disabled-bg-color);\n",
              "    fill: var(--disabled-fill-color);\n",
              "    box-shadow: none;\n",
              "  }\n",
              "\n",
              "  .colab-df-spinner {\n",
              "    border: 2px solid var(--fill-color);\n",
              "    border-color: transparent;\n",
              "    border-bottom-color: var(--fill-color);\n",
              "    animation:\n",
              "      spin 1s steps(1) infinite;\n",
              "  }\n",
              "\n",
              "  @keyframes spin {\n",
              "    0% {\n",
              "      border-color: transparent;\n",
              "      border-bottom-color: var(--fill-color);\n",
              "      border-left-color: var(--fill-color);\n",
              "    }\n",
              "    20% {\n",
              "      border-color: transparent;\n",
              "      border-left-color: var(--fill-color);\n",
              "      border-top-color: var(--fill-color);\n",
              "    }\n",
              "    30% {\n",
              "      border-color: transparent;\n",
              "      border-left-color: var(--fill-color);\n",
              "      border-top-color: var(--fill-color);\n",
              "      border-right-color: var(--fill-color);\n",
              "    }\n",
              "    40% {\n",
              "      border-color: transparent;\n",
              "      border-right-color: var(--fill-color);\n",
              "      border-top-color: var(--fill-color);\n",
              "    }\n",
              "    60% {\n",
              "      border-color: transparent;\n",
              "      border-right-color: var(--fill-color);\n",
              "    }\n",
              "    80% {\n",
              "      border-color: transparent;\n",
              "      border-right-color: var(--fill-color);\n",
              "      border-bottom-color: var(--fill-color);\n",
              "    }\n",
              "    90% {\n",
              "      border-color: transparent;\n",
              "      border-bottom-color: var(--fill-color);\n",
              "    }\n",
              "  }\n",
              "</style>\n",
              "\n",
              "  <script>\n",
              "    async function quickchart(key) {\n",
              "      const quickchartButtonEl =\n",
              "        document.querySelector('#' + key + ' button');\n",
              "      quickchartButtonEl.disabled = true;  // To prevent multiple clicks.\n",
              "      quickchartButtonEl.classList.add('colab-df-spinner');\n",
              "      try {\n",
              "        const charts = await google.colab.kernel.invokeFunction(\n",
              "            'suggestCharts', [key], {});\n",
              "      } catch (error) {\n",
              "        console.error('Error during call to suggestCharts:', error);\n",
              "      }\n",
              "      quickchartButtonEl.classList.remove('colab-df-spinner');\n",
              "      quickchartButtonEl.classList.add('colab-df-quickchart-complete');\n",
              "    }\n",
              "    (() => {\n",
              "      let quickchartButtonEl =\n",
              "        document.querySelector('#df-e3a9524c-1ada-4f03-a8e4-122a3d752a42 button');\n",
              "      quickchartButtonEl.style.display =\n",
              "        google.colab.kernel.accessAllowed ? 'block' : 'none';\n",
              "    })();\n",
              "  </script>\n",
              "</div>\n",
              "    </div>\n",
              "  </div>\n"
            ]
          },
          "metadata": {},
          "execution_count": 22
        }
      ],
      "source": [
        "import pandas as pd\n",
        "\n",
        "uri = \"https://gist.githubusercontent.com/guilhermesilveira/e99a526b2e7ccc6c3b70f53db43a87d2/raw/1605fc74aa778066bf2e6695e24d53cf65f2f447/machine-learning-carros-simulacao.csv\"\n",
        "dados = pd.read_csv(uri).drop(columns=[\"Unnamed: 0\"], axis=1)\n",
        "dados.head()"
      ]
    },
    {
      "cell_type": "code",
      "source": [
        "dados = pd.read_csv(uri).drop(columns=[\"Unnamed: 0\"], axis=1)"
      ],
      "metadata": {
        "id": "JUWvSH2VMT4O"
      },
      "execution_count": null,
      "outputs": []
    },
    {
      "cell_type": "code",
      "source": [
        "x = dados[[\"preco\", \"idade_do_modelo\", \"km_por_ano\"]]\n",
        "y = dados[\"vendido\"]"
      ],
      "metadata": {
        "id": "mPq44601MU8u"
      },
      "execution_count": null,
      "outputs": []
    },
    {
      "cell_type": "code",
      "source": [
        "import numpy as np\n",
        "from sklearn.model_selection import train_test_split\n",
        "from sklearn.svm import LinearSVC\n",
        "from sklearn.metrics import accuracy_score\n",
        "\n",
        "x = dados[[\"preco\", \"idade_do_modelo\",\"km_por_ano\"]]\n",
        "y = dados[\"vendido\"]\n",
        "\n",
        "SEED = 158020\n",
        "np.random.seed(SEED)\n",
        "treino_x, teste_x, treino_y, teste_y = train_test_split(x, y, test_size = 0.25,\n",
        "                                                         stratify = y)\n",
        "print(\"Treinaremos com %d elementos e testaremos com %d elementos\" % (len(treino_x), len(teste_x)))"
      ],
      "metadata": {
        "colab": {
          "base_uri": "https://localhost:8080/"
        },
        "id": "Jw-81G-5MWRI",
        "outputId": "362117e1-3624-466c-9009-eeb29d47dde5"
      },
      "execution_count": null,
      "outputs": [
        {
          "output_type": "stream",
          "name": "stdout",
          "text": [
            "Treinaremos com 7500 elementos e testaremos com 2500 elementos\n"
          ]
        }
      ]
    },
    {
      "cell_type": "code",
      "source": [
        "from sklearn.dummy import DummyClassifier\n",
        "\n",
        "dummy_stratified = DummyClassifier(strategy='stratified')\n",
        "dummy_stratified.fit(treino_x, treino_y)\n",
        "acuracia = dummy_stratified.score(teste_x, teste_y) * 100\n",
        "\n",
        "print(\"A acurácia do dummy stratified foi de %.2f%%\" % acuracia)\n"
      ],
      "metadata": {
        "colab": {
          "base_uri": "https://localhost:8080/"
        },
        "id": "G6kFL3vgMYdu",
        "outputId": "4b7a7c70-183d-4dca-8575-3550df1ca10b"
      },
      "execution_count": null,
      "outputs": [
        {
          "output_type": "stream",
          "name": "stdout",
          "text": [
            "A acurácia do dummy stratified foi de 50.96%\n"
          ]
        }
      ]
    },
    {
      "cell_type": "code",
      "source": [
        "from sklearn.tree import DecisionTreeClassifier\n",
        "\n",
        "SEED = 158020\n",
        "np.random.seed(SEED)\n",
        "modelo = DecisionTreeClassifier(max_depth=2)\n",
        "modelo.fit(treino_x, treino_y)\n",
        "previsoes = modelo.predict(teste_x)\n",
        "\n",
        "acuracia = accuracy_score(teste_y, previsoes) * 100\n",
        "print (\"A acurácia foi %.2f%%\" % acuracia)"
      ],
      "metadata": {
        "colab": {
          "base_uri": "https://localhost:8080/"
        },
        "id": "4c0t0DvVMZ5p",
        "outputId": "794e5dc4-2191-4650-a302-53f42450abd6"
      },
      "execution_count": null,
      "outputs": [
        {
          "output_type": "stream",
          "name": "stdout",
          "text": [
            "A acurácia foi 71.92%\n"
          ]
        }
      ]
    },
    {
      "cell_type": "code",
      "source": [
        "x = dados[[\"preco\", \"idade_do_modelo\",\"km_por_ano\"]]\n",
        "y = dados[\"vendido\"]\n",
        "\n",
        "SEED = 158020\n",
        "np.random.seed(SEED)\n",
        "treino_x, teste_x, treino_y, teste_y = train_test_split(x, y, test_size = 0.25,\n",
        "                                                         stratify = y)\n",
        "print(\"Treinaremos com %d elementos e testaremos com %d elementos\" % (len(treino_x), len(teste_x)))\n",
        "\n",
        "modelo = DecisionTreeClassifier(max_depth=2)\n",
        "modelo.fit(treino_x, treino_y)\n",
        "previsoes = modelo.predict(teste_x)\n",
        "\n",
        "acuracia = accuracy_score(teste_y, previsoes) * 100\n",
        "print(\"A acurácia do dummy stratified foi %.2f%%\" % acuracia)"
      ],
      "metadata": {
        "colab": {
          "base_uri": "https://localhost:8080/"
        },
        "id": "7pOKkM4SMpHj",
        "outputId": "f018066e-2231-426b-f3b5-0c057c278db3"
      },
      "execution_count": null,
      "outputs": [
        {
          "output_type": "stream",
          "name": "stdout",
          "text": [
            "Treinaremos com 7500 elementos e testaremos com 2500 elementos\n",
            "A acurácia do dummy stratified foi 71.92%\n"
          ]
        }
      ]
    },
    {
      "cell_type": "code",
      "source": [
        "x = dados[[\"preco\", \"idade_do_modelo\",\"km_por_ano\"]]\n",
        "y = dados[\"vendido\"]\n",
        "\n",
        "SEED = 5\n",
        "np.random.seed(SEED)\n",
        "treino_x, teste_x, treino_y, teste_y = train_test_split(x, y, test_size = 0.25,\n",
        "                                                         stratify = y)\n",
        "print(\"Treinaremos com %d elementos e testaremos com %d elementos\" % (len(treino_x), len(teste_x)))\n",
        "\n",
        "modelo = DecisionTreeClassifier(max_depth=2)\n",
        "modelo.fit(treino_x, treino_y)\n",
        "previsoes = modelo.predict(teste_x)\n",
        "\n",
        "acuracia = accuracy_score(teste_y, previsoes) * 100\n",
        "print(\"A acurácia do dummy stratified foi %.2f%%\" % acuracia)"
      ],
      "metadata": {
        "colab": {
          "base_uri": "https://localhost:8080/"
        },
        "id": "vpJCnlFKMrps",
        "outputId": "3357751e-2758-4d8c-f955-13416f2b89bb"
      },
      "execution_count": null,
      "outputs": [
        {
          "output_type": "stream",
          "name": "stdout",
          "text": [
            "Treinaremos com 7500 elementos e testaremos com 2500 elementos\n",
            "A acurácia do dummy stratified foi 76.84%\n"
          ]
        }
      ]
    },
    {
      "cell_type": "code",
      "source": [
        "from sklearn.model_selection import cross_validate\n",
        "\n",
        "SEED = 158020\n",
        "\n",
        "modelo = DecisionTreeClassifier(max_depth=2)\n",
        "\n",
        "results = cross_validate(modelo,x,y, cv=3)\n",
        "\n",
        "media = results['test_score'].mean()\n",
        "\n",
        "desvio_padrao = results['test_score'].std()\n",
        "\n",
        "print(\"Accuracy com cross validation 3 [%.2f %.2f]\" % ((media -2*desvio_padrao)*100, (media +2*desvio_padrao)*100))"
      ],
      "metadata": {
        "colab": {
          "base_uri": "https://localhost:8080/"
        },
        "id": "alY6xVuOPcg_",
        "outputId": "597d9f35-1a63-4e4f-86c2-c876ae10a697"
      },
      "execution_count": null,
      "outputs": [
        {
          "output_type": "stream",
          "name": "stdout",
          "text": [
            "Accuracy com cross validation 3 [74.99 76.57]\n"
          ]
        }
      ]
    },
    {
      "cell_type": "code",
      "source": [
        "from sklearn.model_selection import cross_validate\n",
        "\n",
        "SEED = 158020\n",
        "\n",
        "modelo = DecisionTreeClassifier(max_depth=2)\n",
        "\n",
        "results = cross_validate(modelo,x,y, cv=5)\n",
        "\n",
        "media = results['test_score'].mean()\n",
        "\n",
        "desvio_padrao = results['test_score'].std()\n",
        "\n",
        "print(\"Accuracy com cross validation 3 [%.2f %.2f]\" % ((media -2*desvio_padrao)*100, (media +2*desvio_padrao)*100))"
      ],
      "metadata": {
        "colab": {
          "base_uri": "https://localhost:8080/"
        },
        "id": "pT0A3sCjPxpG",
        "outputId": "d2679106-0f54-4afe-c25c-3e71aeda8002"
      },
      "execution_count": null,
      "outputs": [
        {
          "output_type": "stream",
          "name": "stdout",
          "text": [
            "Accuracy com cross validation 3 [75.21 76.35]\n"
          ]
        }
      ]
    },
    {
      "cell_type": "markdown",
      "source": [
        "#Aleatoriedade no cross validate\n"
      ],
      "metadata": {
        "id": "WOFYF3RBSErG"
      }
    },
    {
      "cell_type": "code",
      "source": [
        "def imprime_resultados (results):\n",
        "  media = results['test_score'].mean()\n",
        "  desvio_padrao = results['test_score'].std()\n",
        "  print(\"Accuracy %.2f\" %(media*100))\n",
        "  print(\"Accuracy com cross validation [%.2f %.2f]\" % ((media -2*desvio_padrao)*100, (media +2*desvio_padrao)*100))\n",
        "\n",
        "\n",
        "imprime_resultados(results)"
      ],
      "metadata": {
        "colab": {
          "base_uri": "https://localhost:8080/"
        },
        "id": "IRDeS_5CSgo9",
        "outputId": "75a40e2c-bc5f-4c06-b910-b5064819d59d"
      },
      "execution_count": null,
      "outputs": [
        {
          "output_type": "stream",
          "name": "stdout",
          "text": [
            "Accuracy 75.78\n",
            "Accuracy com cross validation [75.21 76.35]\n"
          ]
        }
      ]
    },
    {
      "cell_type": "code",
      "source": [
        "from sklearn.model_selection import KFold\n",
        "\n",
        "SEED = 301\n",
        "\n",
        "modelo = DecisionTreeClassifier(max_depth=2)\n",
        "\n",
        "cv = KFold(n_splits=10)\n",
        "\n",
        "results = cross_validate(modelo,x,y, cv=cv)\n",
        "\n",
        "imprime_resultados(results)"
      ],
      "metadata": {
        "colab": {
          "base_uri": "https://localhost:8080/"
        },
        "id": "sNFZHQ90ROxR",
        "outputId": "a4bb5ff0-ed10-4a9a-f8d1-e85e831664a8"
      },
      "execution_count": null,
      "outputs": [
        {
          "output_type": "stream",
          "name": "stdout",
          "text": [
            "Accuracy 75.78\n",
            "Accuracy com cross validation [74.37 77.19]\n"
          ]
        }
      ]
    },
    {
      "cell_type": "code",
      "source": [
        "from sklearn.model_selection import KFold\n",
        "\n",
        "SEED = 301\n",
        "\n",
        "modelo = DecisionTreeClassifier(max_depth=2)\n",
        "\n",
        "cv = KFold(n_splits=10, shuffle=True)\n",
        "\n",
        "results = cross_validate(modelo,x,y, cv=cv)\n",
        "\n",
        "imprime_resultados(results)"
      ],
      "metadata": {
        "colab": {
          "base_uri": "https://localhost:8080/",
          "height": 245
        },
        "id": "OFA_3sAxSwYB",
        "outputId": "43f52c20-3b68-43a3-ef89-0d478b98bf5a"
      },
      "execution_count": null,
      "outputs": [
        {
          "output_type": "error",
          "ename": "NameError",
          "evalue": "ignored",
          "traceback": [
            "\u001b[0;31m---------------------------------------------------------------------------\u001b[0m",
            "\u001b[0;31mNameError\u001b[0m                                 Traceback (most recent call last)",
            "\u001b[0;32m<ipython-input-1-b8044548d10c>\u001b[0m in \u001b[0;36m<cell line: 5>\u001b[0;34m()\u001b[0m\n\u001b[1;32m      3\u001b[0m \u001b[0mSEED\u001b[0m \u001b[0;34m=\u001b[0m \u001b[0;36m301\u001b[0m\u001b[0;34m\u001b[0m\u001b[0;34m\u001b[0m\u001b[0m\n\u001b[1;32m      4\u001b[0m \u001b[0;34m\u001b[0m\u001b[0m\n\u001b[0;32m----> 5\u001b[0;31m \u001b[0mmodelo\u001b[0m \u001b[0;34m=\u001b[0m \u001b[0mDecisionTreeClassifier\u001b[0m\u001b[0;34m(\u001b[0m\u001b[0mmax_depth\u001b[0m\u001b[0;34m=\u001b[0m\u001b[0;36m2\u001b[0m\u001b[0;34m)\u001b[0m\u001b[0;34m\u001b[0m\u001b[0;34m\u001b[0m\u001b[0m\n\u001b[0m\u001b[1;32m      6\u001b[0m \u001b[0;34m\u001b[0m\u001b[0m\n\u001b[1;32m      7\u001b[0m \u001b[0mcv\u001b[0m \u001b[0;34m=\u001b[0m \u001b[0mKFold\u001b[0m\u001b[0;34m(\u001b[0m\u001b[0mn_splits\u001b[0m\u001b[0;34m=\u001b[0m\u001b[0;36m10\u001b[0m\u001b[0;34m,\u001b[0m \u001b[0mshuffle\u001b[0m\u001b[0;34m=\u001b[0m\u001b[0;32mTrue\u001b[0m\u001b[0;34m)\u001b[0m\u001b[0;34m\u001b[0m\u001b[0;34m\u001b[0m\u001b[0m\n",
            "\u001b[0;31mNameError\u001b[0m: name 'DecisionTreeClassifier' is not defined"
          ]
        }
      ]
    },
    {
      "cell_type": "code",
      "source": [],
      "metadata": {
        "id": "95R94PM9TeM_"
      },
      "execution_count": null,
      "outputs": []
    },
    {
      "cell_type": "markdown",
      "source": [
        "# Simular situação de azar\n"
      ],
      "metadata": {
        "id": "sqqT_X-1r75b"
      }
    },
    {
      "cell_type": "code",
      "source": [
        "dados_azar = dados.sort_values(\"vendido\",ascending=True)\n",
        "\n",
        "x_azar = dados_azar[[\"preco\", \"idade_do_modelo\", \"km_por_ano\"]]\n",
        "y_azar = dados_azar[\"vendido\"]"
      ],
      "metadata": {
        "id": "oIdZkiXVsDS9"
      },
      "execution_count": null,
      "outputs": []
    },
    {
      "cell_type": "code",
      "source": [
        "from sklearn.model_selection import KFold\n",
        "\n",
        "SEED = 301\n",
        "\n",
        "modelo = DecisionTreeClassifier(max_depth=2)\n",
        "\n",
        "cv = KFold(n_splits=10,shuffle=True)\n",
        "\n",
        "results = cross_validate(modelo,x_azar,y_azar, cv=cv, return_train_score=False)\n",
        "\n",
        "imprime_resultados(results)"
      ],
      "metadata": {
        "colab": {
          "base_uri": "https://localhost:8080/"
        },
        "id": "zhfXFZHssYMX",
        "outputId": "9706759d-68aa-4569-a60b-2dbb35941b4e"
      },
      "execution_count": null,
      "outputs": [
        {
          "output_type": "stream",
          "name": "stdout",
          "text": [
            "Accuracy 75.78\n",
            "Accuracy com cross validation [72.07 79.49]\n"
          ]
        }
      ]
    },
    {
      "cell_type": "code",
      "source": [
        "from sklearn.model_selection import StratifiedKFold\n",
        "\n",
        "SEED = 301\n",
        "\n",
        "modelo = DecisionTreeClassifier(max_depth=2)\n",
        "\n",
        "cv = StratifiedKFold(n_splits=10,shuffle = True)\n",
        "\n",
        "results = cross_validate(modelo,x_azar,y_azar, cv=cv, return_train_score=False)\n",
        "\n",
        "imprime_resultados(results)"
      ],
      "metadata": {
        "colab": {
          "base_uri": "https://localhost:8080/"
        },
        "id": "5_M6Qb_7s06u",
        "outputId": "f87ec9fe-2d50-4ce0-d253-347a648b3e24"
      },
      "execution_count": null,
      "outputs": [
        {
          "output_type": "stream",
          "name": "stdout",
          "text": [
            "Accuracy 75.79\n",
            "Accuracy com cross validation [72.80 78.78]\n"
          ]
        }
      ]
    },
    {
      "cell_type": "markdown",
      "source": [
        "#Gerando dados aleatórios de modelo de carro para a simulação de agrupamento ao usar nosso estimador"
      ],
      "metadata": {
        "id": "8MG98WKV2Lve"
      }
    },
    {
      "cell_type": "code",
      "source": [
        "np.random.seed(SEED)\n",
        "dados['modelo']=dados.idade_do_modelo+np.random.randint(-2,3,size=10000)\n",
        "dados.modelo=dados.modelo+abs(dados.modelo.min())+1\n",
        "dados.head()"
      ],
      "metadata": {
        "id": "dXLIIa-DtkcE",
        "colab": {
          "base_uri": "https://localhost:8080/",
          "height": 206
        },
        "outputId": "98592a33-445e-4d04-9857-e4cb54476c7e"
      },
      "execution_count": null,
      "outputs": [
        {
          "output_type": "execute_result",
          "data": {
            "text/plain": [
              "       preco  vendido  idade_do_modelo   km_por_ano  modelo\n",
              "0   30941.02        1               18  35085.22134      18\n",
              "1   40557.96        1               20  12622.05362      24\n",
              "2   89627.50        0               12  11440.79806      14\n",
              "3   95276.14        0                3  43167.32682       6\n",
              "4  117384.68        1                4  12770.11290       5"
            ],
            "text/html": [
              "\n",
              "  <div id=\"df-73bf5df9-d95d-449b-abcd-e2a180446c95\" class=\"colab-df-container\">\n",
              "    <div>\n",
              "<style scoped>\n",
              "    .dataframe tbody tr th:only-of-type {\n",
              "        vertical-align: middle;\n",
              "    }\n",
              "\n",
              "    .dataframe tbody tr th {\n",
              "        vertical-align: top;\n",
              "    }\n",
              "\n",
              "    .dataframe thead th {\n",
              "        text-align: right;\n",
              "    }\n",
              "</style>\n",
              "<table border=\"1\" class=\"dataframe\">\n",
              "  <thead>\n",
              "    <tr style=\"text-align: right;\">\n",
              "      <th></th>\n",
              "      <th>preco</th>\n",
              "      <th>vendido</th>\n",
              "      <th>idade_do_modelo</th>\n",
              "      <th>km_por_ano</th>\n",
              "      <th>modelo</th>\n",
              "    </tr>\n",
              "  </thead>\n",
              "  <tbody>\n",
              "    <tr>\n",
              "      <th>0</th>\n",
              "      <td>30941.02</td>\n",
              "      <td>1</td>\n",
              "      <td>18</td>\n",
              "      <td>35085.22134</td>\n",
              "      <td>18</td>\n",
              "    </tr>\n",
              "    <tr>\n",
              "      <th>1</th>\n",
              "      <td>40557.96</td>\n",
              "      <td>1</td>\n",
              "      <td>20</td>\n",
              "      <td>12622.05362</td>\n",
              "      <td>24</td>\n",
              "    </tr>\n",
              "    <tr>\n",
              "      <th>2</th>\n",
              "      <td>89627.50</td>\n",
              "      <td>0</td>\n",
              "      <td>12</td>\n",
              "      <td>11440.79806</td>\n",
              "      <td>14</td>\n",
              "    </tr>\n",
              "    <tr>\n",
              "      <th>3</th>\n",
              "      <td>95276.14</td>\n",
              "      <td>0</td>\n",
              "      <td>3</td>\n",
              "      <td>43167.32682</td>\n",
              "      <td>6</td>\n",
              "    </tr>\n",
              "    <tr>\n",
              "      <th>4</th>\n",
              "      <td>117384.68</td>\n",
              "      <td>1</td>\n",
              "      <td>4</td>\n",
              "      <td>12770.11290</td>\n",
              "      <td>5</td>\n",
              "    </tr>\n",
              "  </tbody>\n",
              "</table>\n",
              "</div>\n",
              "    <div class=\"colab-df-buttons\">\n",
              "\n",
              "  <div class=\"colab-df-container\">\n",
              "    <button class=\"colab-df-convert\" onclick=\"convertToInteractive('df-73bf5df9-d95d-449b-abcd-e2a180446c95')\"\n",
              "            title=\"Convert this dataframe to an interactive table.\"\n",
              "            style=\"display:none;\">\n",
              "\n",
              "  <svg xmlns=\"http://www.w3.org/2000/svg\" height=\"24px\" viewBox=\"0 -960 960 960\">\n",
              "    <path d=\"M120-120v-720h720v720H120Zm60-500h600v-160H180v160Zm220 220h160v-160H400v160Zm0 220h160v-160H400v160ZM180-400h160v-160H180v160Zm440 0h160v-160H620v160ZM180-180h160v-160H180v160Zm440 0h160v-160H620v160Z\"/>\n",
              "  </svg>\n",
              "    </button>\n",
              "\n",
              "  <style>\n",
              "    .colab-df-container {\n",
              "      display:flex;\n",
              "      gap: 12px;\n",
              "    }\n",
              "\n",
              "    .colab-df-convert {\n",
              "      background-color: #E8F0FE;\n",
              "      border: none;\n",
              "      border-radius: 50%;\n",
              "      cursor: pointer;\n",
              "      display: none;\n",
              "      fill: #1967D2;\n",
              "      height: 32px;\n",
              "      padding: 0 0 0 0;\n",
              "      width: 32px;\n",
              "    }\n",
              "\n",
              "    .colab-df-convert:hover {\n",
              "      background-color: #E2EBFA;\n",
              "      box-shadow: 0px 1px 2px rgba(60, 64, 67, 0.3), 0px 1px 3px 1px rgba(60, 64, 67, 0.15);\n",
              "      fill: #174EA6;\n",
              "    }\n",
              "\n",
              "    .colab-df-buttons div {\n",
              "      margin-bottom: 4px;\n",
              "    }\n",
              "\n",
              "    [theme=dark] .colab-df-convert {\n",
              "      background-color: #3B4455;\n",
              "      fill: #D2E3FC;\n",
              "    }\n",
              "\n",
              "    [theme=dark] .colab-df-convert:hover {\n",
              "      background-color: #434B5C;\n",
              "      box-shadow: 0px 1px 3px 1px rgba(0, 0, 0, 0.15);\n",
              "      filter: drop-shadow(0px 1px 2px rgba(0, 0, 0, 0.3));\n",
              "      fill: #FFFFFF;\n",
              "    }\n",
              "  </style>\n",
              "\n",
              "    <script>\n",
              "      const buttonEl =\n",
              "        document.querySelector('#df-73bf5df9-d95d-449b-abcd-e2a180446c95 button.colab-df-convert');\n",
              "      buttonEl.style.display =\n",
              "        google.colab.kernel.accessAllowed ? 'block' : 'none';\n",
              "\n",
              "      async function convertToInteractive(key) {\n",
              "        const element = document.querySelector('#df-73bf5df9-d95d-449b-abcd-e2a180446c95');\n",
              "        const dataTable =\n",
              "          await google.colab.kernel.invokeFunction('convertToInteractive',\n",
              "                                                    [key], {});\n",
              "        if (!dataTable) return;\n",
              "\n",
              "        const docLinkHtml = 'Like what you see? Visit the ' +\n",
              "          '<a target=\"_blank\" href=https://colab.research.google.com/notebooks/data_table.ipynb>data table notebook</a>'\n",
              "          + ' to learn more about interactive tables.';\n",
              "        element.innerHTML = '';\n",
              "        dataTable['output_type'] = 'display_data';\n",
              "        await google.colab.output.renderOutput(dataTable, element);\n",
              "        const docLink = document.createElement('div');\n",
              "        docLink.innerHTML = docLinkHtml;\n",
              "        element.appendChild(docLink);\n",
              "      }\n",
              "    </script>\n",
              "  </div>\n",
              "\n",
              "\n",
              "<div id=\"df-d74651a0-e3b9-49f0-a4f4-786f17a83796\">\n",
              "  <button class=\"colab-df-quickchart\" onclick=\"quickchart('df-d74651a0-e3b9-49f0-a4f4-786f17a83796')\"\n",
              "            title=\"Suggest charts.\"\n",
              "            style=\"display:none;\">\n",
              "\n",
              "<svg xmlns=\"http://www.w3.org/2000/svg\" height=\"24px\"viewBox=\"0 0 24 24\"\n",
              "     width=\"24px\">\n",
              "    <g>\n",
              "        <path d=\"M19 3H5c-1.1 0-2 .9-2 2v14c0 1.1.9 2 2 2h14c1.1 0 2-.9 2-2V5c0-1.1-.9-2-2-2zM9 17H7v-7h2v7zm4 0h-2V7h2v10zm4 0h-2v-4h2v4z\"/>\n",
              "    </g>\n",
              "</svg>\n",
              "  </button>\n",
              "\n",
              "<style>\n",
              "  .colab-df-quickchart {\n",
              "      --bg-color: #E8F0FE;\n",
              "      --fill-color: #1967D2;\n",
              "      --hover-bg-color: #E2EBFA;\n",
              "      --hover-fill-color: #174EA6;\n",
              "      --disabled-fill-color: #AAA;\n",
              "      --disabled-bg-color: #DDD;\n",
              "  }\n",
              "\n",
              "  [theme=dark] .colab-df-quickchart {\n",
              "      --bg-color: #3B4455;\n",
              "      --fill-color: #D2E3FC;\n",
              "      --hover-bg-color: #434B5C;\n",
              "      --hover-fill-color: #FFFFFF;\n",
              "      --disabled-bg-color: #3B4455;\n",
              "      --disabled-fill-color: #666;\n",
              "  }\n",
              "\n",
              "  .colab-df-quickchart {\n",
              "    background-color: var(--bg-color);\n",
              "    border: none;\n",
              "    border-radius: 50%;\n",
              "    cursor: pointer;\n",
              "    display: none;\n",
              "    fill: var(--fill-color);\n",
              "    height: 32px;\n",
              "    padding: 0;\n",
              "    width: 32px;\n",
              "  }\n",
              "\n",
              "  .colab-df-quickchart:hover {\n",
              "    background-color: var(--hover-bg-color);\n",
              "    box-shadow: 0 1px 2px rgba(60, 64, 67, 0.3), 0 1px 3px 1px rgba(60, 64, 67, 0.15);\n",
              "    fill: var(--button-hover-fill-color);\n",
              "  }\n",
              "\n",
              "  .colab-df-quickchart-complete:disabled,\n",
              "  .colab-df-quickchart-complete:disabled:hover {\n",
              "    background-color: var(--disabled-bg-color);\n",
              "    fill: var(--disabled-fill-color);\n",
              "    box-shadow: none;\n",
              "  }\n",
              "\n",
              "  .colab-df-spinner {\n",
              "    border: 2px solid var(--fill-color);\n",
              "    border-color: transparent;\n",
              "    border-bottom-color: var(--fill-color);\n",
              "    animation:\n",
              "      spin 1s steps(1) infinite;\n",
              "  }\n",
              "\n",
              "  @keyframes spin {\n",
              "    0% {\n",
              "      border-color: transparent;\n",
              "      border-bottom-color: var(--fill-color);\n",
              "      border-left-color: var(--fill-color);\n",
              "    }\n",
              "    20% {\n",
              "      border-color: transparent;\n",
              "      border-left-color: var(--fill-color);\n",
              "      border-top-color: var(--fill-color);\n",
              "    }\n",
              "    30% {\n",
              "      border-color: transparent;\n",
              "      border-left-color: var(--fill-color);\n",
              "      border-top-color: var(--fill-color);\n",
              "      border-right-color: var(--fill-color);\n",
              "    }\n",
              "    40% {\n",
              "      border-color: transparent;\n",
              "      border-right-color: var(--fill-color);\n",
              "      border-top-color: var(--fill-color);\n",
              "    }\n",
              "    60% {\n",
              "      border-color: transparent;\n",
              "      border-right-color: var(--fill-color);\n",
              "    }\n",
              "    80% {\n",
              "      border-color: transparent;\n",
              "      border-right-color: var(--fill-color);\n",
              "      border-bottom-color: var(--fill-color);\n",
              "    }\n",
              "    90% {\n",
              "      border-color: transparent;\n",
              "      border-bottom-color: var(--fill-color);\n",
              "    }\n",
              "  }\n",
              "</style>\n",
              "\n",
              "  <script>\n",
              "    async function quickchart(key) {\n",
              "      const quickchartButtonEl =\n",
              "        document.querySelector('#' + key + ' button');\n",
              "      quickchartButtonEl.disabled = true;  // To prevent multiple clicks.\n",
              "      quickchartButtonEl.classList.add('colab-df-spinner');\n",
              "      try {\n",
              "        const charts = await google.colab.kernel.invokeFunction(\n",
              "            'suggestCharts', [key], {});\n",
              "      } catch (error) {\n",
              "        console.error('Error during call to suggestCharts:', error);\n",
              "      }\n",
              "      quickchartButtonEl.classList.remove('colab-df-spinner');\n",
              "      quickchartButtonEl.classList.add('colab-df-quickchart-complete');\n",
              "    }\n",
              "    (() => {\n",
              "      let quickchartButtonEl =\n",
              "        document.querySelector('#df-d74651a0-e3b9-49f0-a4f4-786f17a83796 button');\n",
              "      quickchartButtonEl.style.display =\n",
              "        google.colab.kernel.accessAllowed ? 'block' : 'none';\n",
              "    })();\n",
              "  </script>\n",
              "</div>\n",
              "    </div>\n",
              "  </div>\n"
            ]
          },
          "metadata": {},
          "execution_count": 38
        }
      ]
    },
    {
      "cell_type": "markdown",
      "source": [
        "#Testando validação cruzada com GroupKFold"
      ],
      "metadata": {
        "id": "FfynOSMP2Xbf"
      }
    },
    {
      "cell_type": "code",
      "source": [
        "from sklearn.model_selection import GroupKFold\n",
        "\n",
        "SEED = 301\n",
        "np.random.seed(SEED)\n",
        "\n",
        "modelo = DecisionTreeClassifier(max_depth=2)\n",
        "\n",
        "cv = GroupKFold(n_splits=10)\n",
        "\n",
        "results = cross_validate(modelo,x_azar,y_azar, cv=cv, groups=dados.modelo,return_train_score=False)\n",
        "\n",
        "imprime_resultados(results)"
      ],
      "metadata": {
        "colab": {
          "base_uri": "https://localhost:8080/"
        },
        "id": "FCjHP5CqWQdt",
        "outputId": "1fbd3740-e88f-4ba5-9a72-5dd2b2ac5acc"
      },
      "execution_count": null,
      "outputs": [
        {
          "output_type": "stream",
          "name": "stdout",
          "text": [
            "Accuracy 75.78\n",
            "Accuracy com cross validation [73.67 77.90]\n"
          ]
        }
      ]
    },
    {
      "cell_type": "markdown",
      "source": [
        "#Cross validation com StandardScaler"
      ],
      "metadata": {
        "id": "N_NKCTA32mRl"
      }
    },
    {
      "cell_type": "code",
      "source": [
        "from sklearn.preprocessing import StandardScaler\n",
        "from sklearn.svm import SVC\n",
        "\n",
        "SEED=301\n",
        "np.random.seed(SEED)\n",
        "\n",
        "scaler=StandardScaler()\n",
        "\n",
        "scaler.fit(treino_x)\n",
        "\n",
        "treino_x_escalado=scaler.transform(treino_x)\n",
        "\n",
        "teste_x_escalado =  scaler.transform(teste_x)\n",
        "\n",
        "modelo = SVC()\n",
        "\n",
        "modelo.fit(treino_x_escalado, treino_y)\n",
        "previsoes = modelo.predict(teste_x_escalado)\n",
        "\n",
        "acuracia = accuracy_score(teste_y, previsoes) * 100\n",
        "print (\"A acurácia foi %.2f%%\" % acuracia)\n"
      ],
      "metadata": {
        "colab": {
          "base_uri": "https://localhost:8080/"
        },
        "id": "sqSLYjXV1GaY",
        "outputId": "b129f06a-defc-42bc-8ccc-6d63b21e0df0"
      },
      "execution_count": null,
      "outputs": [
        {
          "output_type": "stream",
          "name": "stdout",
          "text": [
            "A acurácia foi 77.48%\n"
          ]
        }
      ]
    },
    {
      "cell_type": "code",
      "source": [
        "from sklearn.model_selection import GroupKFold\n",
        "\n",
        "SEED = 301\n",
        "np.random.seed(SEED)\n",
        "\n",
        "modelo = SVC()\n",
        "\n",
        "cv = GroupKFold(n_splits=10)\n",
        "\n",
        "results = cross_validate(modelo,x_azar,y_azar, cv=cv, groups=dados.modelo,return_train_score=False)\n",
        "\n",
        "imprime_resultados(results)"
      ],
      "metadata": {
        "colab": {
          "base_uri": "https://localhost:8080/"
        },
        "id": "cAOmJd6I2xwX",
        "outputId": "550b786b-c939-4990-be04-94ddb4687743"
      },
      "execution_count": null,
      "outputs": [
        {
          "output_type": "stream",
          "name": "stdout",
          "text": [
            "Accuracy 77.27\n",
            "Accuracy com cross validation [74.35 80.20]\n"
          ]
        }
      ]
    },
    {
      "cell_type": "code",
      "source": [
        "scaler=StandardScaler()\n",
        "\n",
        "scaler.fit(x_azar)\n",
        "\n",
        "x_azar_escalado=scaler.transform(x_azar)"
      ],
      "metadata": {
        "id": "Trq3pgBW6BHl"
      },
      "execution_count": null,
      "outputs": []
    },
    {
      "cell_type": "code",
      "source": [
        "SEED = 301\n",
        "np.random.seed(SEED)\n",
        "\n",
        "modelo = SVC()\n",
        "\n",
        "cv = GroupKFold(n_splits=10)\n",
        "\n",
        "results = cross_validate(modelo,x_azar_escalado,y_azar, cv=cv, groups=dados.modelo,return_train_score=False)\n",
        "\n",
        "imprime_resultados(results)"
      ],
      "metadata": {
        "colab": {
          "base_uri": "https://localhost:8080/"
        },
        "id": "F6Bab_f-4kM9",
        "outputId": "1c48a425-6733-4473-a159-e1271833c951"
      },
      "execution_count": null,
      "outputs": [
        {
          "output_type": "stream",
          "name": "stdout",
          "text": [
            "Accuracy 76.70\n",
            "Accuracy com cross validation [74.30 79.10]\n"
          ]
        }
      ]
    },
    {
      "cell_type": "code",
      "source": [
        "from sklearn.pipeline import Pipeline\n",
        "\n",
        "SEED = 301\n",
        "np.random.seed(SEED)\n",
        "\n",
        "scaler = StandardScaler()\n",
        "modelo= SVC()\n",
        "\n",
        "pipeline = Pipeline([('transformacao',scaler),('estimador',modelo)])\n",
        "\n",
        "cv = GroupKFold(n_splits=10)\n",
        "results = cross_validate(pipeline,x_azar,y_azar, cv=cv, groups=dados.modelo,return_train_score=False)\n",
        "imprime_resultados(results)"
      ],
      "metadata": {
        "colab": {
          "base_uri": "https://localhost:8080/"
        },
        "id": "7l5g7489678H",
        "outputId": "00ce57b5-e7af-4b03-a980-c8644faee31a"
      },
      "execution_count": null,
      "outputs": [
        {
          "output_type": "stream",
          "name": "stdout",
          "text": [
            "Accuracy 76.68\n",
            "Accuracy com cross validation [74.28 79.08]\n"
          ]
        }
      ]
    },
    {
      "cell_type": "code",
      "source": [],
      "metadata": {
        "id": "UYbiFuA27d5S"
      },
      "execution_count": null,
      "outputs": []
    }
  ]
}